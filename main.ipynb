{
 "cells": [
  {
   "cell_type": "code",
   "execution_count": 1,
   "metadata": {},
   "outputs": [],
   "source": [
    "from dotenv import load_dotenv\n",
    "import os \n",
    "from langchain_groq import ChatGroq\n",
    "from langchain.prompts import PromptTemplate\n",
    "from langchain_core.output_parsers import StrOutputParser\n",
    "from langchain_community.document_loaders import PyPDFLoader,TextLoader\n",
    "from langchain.text_splitter import RecursiveCharacterTextSplitter\n",
    "from langchain_community.vectorstores import FAISS\n",
    "from langchain_core.runnables import RunnablePassthrough, RunnableParallel\n",
    "from langchain_community.embeddings import FakeEmbeddings"
   ]
  },
  {
   "cell_type": "code",
   "execution_count": 2,
   "metadata": {},
   "outputs": [],
   "source": [
    "load_dotenv()\n",
    "API_KEY = os.getenv('key')\n",
    "Model = \"llama-3.1-70b-versatile\"\n"
   ]
  },
  {
   "cell_type": "code",
   "execution_count": 3,
   "metadata": {},
   "outputs": [
    {
     "data": {
      "text/plain": [
       "AIMessage(content=\"Coding, also known as computer programming, is the process of designing, writing, testing, and maintaining the source code of computer programs. This source code is written in one or more programming languages, which are used to communicate with a computer.\\n\\nThink of coding like writing a recipe for a computer. Just as a recipe provides instructions for a human to follow, a computer program provides instructions for a computer to follow. The computer follows these instructions, step by step, to perform a specific task or set of tasks.\\n\\nHere's a breakdown of the coding process:\\n\\n1. **Design**: The programmer defines the problem to be solved and identifies the requirements for the program.\\n2. **Writing**: The programmer writes the source code in a programming language, such as Python, Java, or C++.\\n3. **Testing**: The programmer tests the program to ensure it works as expected and fixes any errors or bugs.\\n4. **Debugging**: The programmer identifies and fixes any errors or bugs that are found during testing.\\n5. **Maintenance**: The programmer updates and refactors the program to ensure it continues to work correctly and efficiently over time.\\n\\nCoding involves a range of skills, including:\\n\\n* **Problem-solving**: Breaking down complex problems into manageable parts and finding creative solutions.\\n* **Logical thinking**: Using logic and reasoning to write efficient and effective code.\\n* **Attention to detail**: Carefully writing and testing code to ensure it works correctly.\\n* **Communication**: Collaborating with others to design, develop, and maintain software.\\n\\nCoding is used in many areas, including:\\n\\n* **Web development**: Building websites and web applications.\\n* **Mobile app development**: Creating apps for smartphones and tablets.\\n* **Game development**: Creating games for PCs, consoles, or mobile devices.\\n* **Artificial intelligence**: Developing intelligent systems that can learn and adapt.\\n* **Data analysis**: Working with data to extract insights and meaning.\\n\\nIn summary, coding is the process of designing, writing, testing, and maintaining the source code of computer programs, using programming languages to communicate with computers and solve problems.\", response_metadata={'token_usage': {'completion_tokens': 417, 'prompt_tokens': 14, 'total_tokens': 431, 'completion_time': 1.6680000000000001, 'prompt_time': 0.002213655, 'queue_time': 0.010619534, 'total_time': 1.670213655}, 'model_name': 'llama-3.1-70b-versatile', 'system_fingerprint': 'fp_b3ae7e594e', 'finish_reason': 'stop', 'logprobs': None}, id='run-9eb22f89-05ca-4cac-9bca-21f5ecca8389-0', usage_metadata={'input_tokens': 14, 'output_tokens': 417, 'total_tokens': 431})"
      ]
     },
     "execution_count": 3,
     "metadata": {},
     "output_type": "execute_result"
    }
   ],
   "source": [
    "model = ChatGroq(api_key=API_KEY,model=Model)\n",
    "model.invoke('what is coding?')"
   ]
  },
  {
   "cell_type": "code",
   "execution_count": 4,
   "metadata": {},
   "outputs": [],
   "source": [
    "parser = StrOutputParser()\n",
    "chain = model|parser"
   ]
  },
  {
   "cell_type": "code",
   "execution_count": 5,
   "metadata": {},
   "outputs": [
    {
     "data": {
      "text/plain": [
       "\"**Coding**, also known as computer programming, is the process of designing, writing, testing, and maintaining the source code of computer programs. This source code is written in one or more programming languages, which are used to communicate with a computer and instruct it to perform specific tasks.\\n\\n**What do coders do?**\\n\\nCoders, also known as programmers or developers, use programming languages to write code that a computer can understand and execute. Their primary tasks include:\\n\\n1. **Designing algorithms**: Breaking down complex problems into smaller, manageable parts and creating step-by-step instructions for solving them.\\n2. **Writing code**: Using programming languages to write the instructions that a computer can understand.\\n3. **Testing and debugging**: Identifying and fixing errors in the code to ensure it works as intended.\\n4. **Maintaining and updating**: Modifying existing code to add new features, fix bugs, or improve performance.\\n\\n**Types of coding**\\n\\nThere are several types of coding, including:\\n\\n1. **Web development**: Building websites and web applications using programming languages like HTML, CSS, JavaScript, and server-side languages like Ruby, Python, and PHP.\\n2. **Mobile app development**: Creating mobile apps for Android and iOS devices using programming languages like Java, Swift, and Kotlin.\\n3. **Game development**: Creating games for PCs, consoles, or mobile devices using programming languages like C++, Java, and Python.\\n4. **Artificial intelligence and machine learning**: Building intelligent systems that can learn and make decisions using programming languages like Python, R, and Julia.\\n5. **System administration**: Managing and maintaining computer systems, networks, and infrastructure using programming languages like Bash, Perl, and Python.\\n\\n**Programming languages**\\n\\nSome popular programming languages include:\\n\\n1. **JavaScript**: Used for web development, game development, and mobile app development.\\n2. **Python**: Used for web development, data science, machine learning, and automation.\\n3. **Java**: Used for Android app development, web development, and enterprise software development.\\n4. **C++**: Used for game development, system programming, and high-performance applications.\\n5. **HTML/CSS**: Used for web development and building websites.\\n\\n**Why is coding important?**\\n\\nCoding is an essential skill in today's technology-driven world. It enables us to:\\n\\n1. **Automate tasks**: Save time and increase productivity by automating repetitive tasks.\\n2. **Build innovative products**: Create new products and services that can solve real-world problems.\\n3. **Improve decision-making**: Use data analysis and machine learning to make informed decisions.\\n4. **Enhance user experiences**: Create intuitive and user-friendly interfaces that make technology accessible to everyone.\\n\\nIn summary, coding is the process of writing instructions that a computer can understand and execute. It's a fundamental skill that enables us to build innovative products, automate tasks, and improve decision-making.\""
      ]
     },
     "execution_count": 5,
     "metadata": {},
     "output_type": "execute_result"
    }
   ],
   "source": [
    "chain.invoke('what is coding?')"
   ]
  },
  {
   "cell_type": "code",
   "execution_count": 6,
   "metadata": {},
   "outputs": [
    {
     "data": {
      "text/plain": [
       "9"
      ]
     },
     "execution_count": 6,
     "metadata": {},
     "output_type": "execute_result"
    }
   ],
   "source": [
    "file_loader = PyPDFLoader('AI introduction.pdf')\n",
    "page = file_loader.load_and_split()\n",
    "len(page)"
   ]
  },
  {
   "cell_type": "code",
   "execution_count": 16,
   "metadata": {},
   "outputs": [],
   "source": [
    "spliter = RecursiveCharacterTextSplitter(chunk_size = 50,chunk_overlap = 10)\n",
    "pages = spliter.split_documents(page)\n"
   ]
  },
  {
   "cell_type": "code",
   "execution_count": 9,
   "metadata": {},
   "outputs": [],
   "source": [
    "vector_storage = FAISS.from_documents(pages,FakeEmbeddings(size=1352))\n",
    "retriever = vector_storage.as_retriever()"
   ]
  },
  {
   "cell_type": "code",
   "execution_count": 10,
   "metadata": {},
   "outputs": [],
   "source": [
    "question_template = \"\"\"\n",
    "your a smart bot that answers questions based on the context given to you only.\n",
    "Return the answer.\n",
    "context:{context}\n",
    "question:{question}\n",
    "\n",
    "\"\"\""
   ]
  },
  {
   "cell_type": "code",
   "execution_count": 11,
   "metadata": {},
   "outputs": [
    {
     "name": "stdout",
     "output_type": "stream",
     "text": [
      "\n",
      "your a smart bot that answers questions based on the context given to you only.\n",
      "Return the answer and don't make things up.\n",
      "context: Here is the context to use\n",
      "question: Answer this question based on the context\n",
      "\n",
      "\n"
     ]
    }
   ],
   "source": [
    "prompt = PromptTemplate.from_template(template=question_template)\n",
    "print(prompt.format(context = ' Here is the context to use',\n",
    "              question = ' Answer this question based on the context'\n",
    "              ))"
   ]
  },
  {
   "cell_type": "code",
   "execution_count": 17,
   "metadata": {},
   "outputs": [],
   "source": [
    "result = RunnableParallel(context= retriever,question = RunnablePassthrough())"
   ]
  },
  {
   "cell_type": "code",
   "execution_count": 13,
   "metadata": {},
   "outputs": [],
   "source": [
    "chain = result |prompt | model | parser"
   ]
  },
  {
   "cell_type": "code",
   "execution_count": 14,
   "metadata": {},
   "outputs": [
    {
     "data": {
      "text/plain": [
       "[Document(metadata={'source': 'AI introduction.pdf', 'page': 0}, page_content='Ryerson University\\nWhat is Artificial Intelligence?\\nImag e by Gerd Altmann from Pixabay\\nGenerally'),\n",
       " Document(metadata={'source': 'AI introduction.pdf', 'page': 1}, page_content='our\\nhead.\\nI\\nmean\\nthat’s\\nwhat\\nwe\\nhave \\nbeen\\nwatching\\nin\\ntelevision\\nfor\\nyears,\\nisn’t\\nit?\\nAnd\\nto\\na'),\n",
       " Document(metadata={'source': 'AI introduction.pdf', 'page': 7}, page_content='in\\nthe\\nnear\\nfuture\\nand \\nhow\\ndrastically\\nit\\nis\\ngoing\\nto\\nchange\\nand\\nupgrade\\nthe\\nworld\\nwe\\nlive\\nin'),\n",
       " Document(metadata={'source': 'AI introduction.pdf', 'page': 5}, page_content='the\\ngreatest\\nthing\\nhumankind\\nhas\\never\\nworked\\non.\\nAI\\nis\\nbeing \\nused\\nin\\nimage\\nand\\nspeech\\nrecognition')]"
      ]
     },
     "execution_count": 14,
     "metadata": {},
     "output_type": "execute_result"
    }
   ],
   "source": [
    "retriever.invoke('Reinforcement learning?')"
   ]
  },
  {
   "cell_type": "code",
   "execution_count": 19,
   "metadata": {},
   "outputs": [
    {
     "data": {
      "text/plain": [
       "'Reinforcement learning: instance is not labelled and the conclusions are drawn by the machines.'"
      ]
     },
     "execution_count": 19,
     "metadata": {},
     "output_type": "execute_result"
    }
   ],
   "source": [
    "chain.invoke('Reinforcement learning?')"
   ]
  }
 ],
 "metadata": {
  "kernelspec": {
   "display_name": "bot",
   "language": "python",
   "name": "python3"
  },
  "language_info": {
   "codemirror_mode": {
    "name": "ipython",
    "version": 3
   },
   "file_extension": ".py",
   "mimetype": "text/x-python",
   "name": "python",
   "nbconvert_exporter": "python",
   "pygments_lexer": "ipython3",
   "version": "3.9.8"
  }
 },
 "nbformat": 4,
 "nbformat_minor": 2
}
